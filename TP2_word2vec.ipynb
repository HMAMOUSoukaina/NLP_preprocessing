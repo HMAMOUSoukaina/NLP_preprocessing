{
  "nbformat": 4,
  "nbformat_minor": 0,
  "metadata": {
    "colab": {
      "provenance": []
    },
    "kernelspec": {
      "name": "python3",
      "display_name": "Python 3"
    },
    "language_info": {
      "name": "python"
    }
  },
  "cells": [
    {
      "cell_type": "markdown",
      "source": [
        "# - Lire le contenu du texte"
      ],
      "metadata": {
        "id": "cJAXHNEK6hmA"
      }
    },
    {
      "cell_type": "code",
      "execution_count": 45,
      "metadata": {
        "id": "znCfIkGanQFA",
        "colab": {
          "base_uri": "https://localhost:8080/"
        },
        "outputId": "ec6b61f8-f62b-4f1b-fdf2-ce77b4fca593"
      },
      "outputs": [
        {
          "output_type": "stream",
          "name": "stdout",
          "text": [
            "text before :\n",
            "\n",
            "**Morocco and Marrakech: A Tapestry of Tradition and Modernity** Morocco, located at the crossroads of Europe and Africa, is a country drenched in history, mystery, and cultural richness. A testament to the ancient civilizations that once flourished here, this North African kingdom boasts a unique blend of Arab, Berber, and European influences. At the heart of Morocco's rich tapestry lies Marrakech, one of its four imperial cities and a vibrant epicenter of tradition and modernity. **Geographical Significance** Morocco is bordered by the Atlantic Ocean to the west, the Mediterranean Sea to the north, Algeria to the east and southeast, and the vast Sahara desert to the south. Its strategic location has historically made it a sought-after territory and a melting pot of cultures, religions, and trade routes. **Marrakech: The Red City** Marrakech, often referred to as \"The Red City\" due to its distinctive red-hued buildings, stands against the backdrop of the snow-capped Atlas Mountains. Established in the 11th century, it has remained a crucial political, economic, and cultural center of Morocco. **Journey through the Medina** Marrakech's old town, the Medina, is a UNESCO World Heritage site and a labyrinthine maze of narrow alleys, bustling souks, and historical landmarks. The Djemaa el-Fna Square lies at the heart of the Medina and comes alive every evening with storytellers, musicians, snake charmers, and food stalls offering tantalizing Moroccan delicacies. **Palaces and Gardens** The city is also home to grand palaces like the Bahia Palace, showcasing intricate Islamic architecture, and the Saadian Tombs, remnants of the Saadian dynasty. The Majorelle Garden, restored by the fashion designer Yves Saint Laurent, is a tranquil oasis of cacti, palm trees, and cobalt blue accents. **Modern Marrakech** While tradition and history permeate Marrakech, the city is not averse to the modern world. Gueliz, the new town, is brimming with contemporary art galleries, stylish cafes, and chic boutiques, offering a stark contrast to the ancient Medina. **Moroccan Cuisine** No journey through Morocco and Marrakech would be complete without indulging in the local cuisine. Tagines, couscous, and pastilla are just a few of the many dishes that combine a plethora of flavors and spices like saffron, cumin, and mint. Paired with Moroccan mint tea, the culinary experience is truly unparalleled. **In Conclusion** Morocco, with Marrakech at its heart, offers travelers an unparalleled journey through time. The convergence of history, culture, architecture, and gastronomy makes it an enthralling destination for those seeking both adventure and reflection. As the Moroccan proverb goes, \"He who does not travel does not know the value of men.\" In the case of Morocco and Marrakech, it's not just the value of men, but also the value of time, tradition, and tales that have spanned centuries.\n"
          ]
        }
      ],
      "source": [
        "# accéder au fichier text\n",
        "fichier = '/content/drive/MyDrive/text'\n",
        "\n",
        "# Lire le contenu du fichier texte\n",
        "with open(fichier, 'r') as file:\n",
        "    text = file.read()\n",
        "\n",
        "# Afficher le contenu du fichier\n",
        "print(\"text before :\\n\")\n",
        "print(text)"
      ]
    },
    {
      "cell_type": "markdown",
      "source": [
        "# prétraitement du texte"
      ],
      "metadata": {
        "id": "aXmB2w706riW"
      }
    },
    {
      "cell_type": "code",
      "source": [
        "\n",
        "!pip install nltk\n",
        "import nltk\n",
        "from nltk.tokenize import word_tokenize\n",
        "from nltk.corpus import stopwords\n",
        "\n",
        "nltk.download('punkt')\n",
        "nltk.download('stopwords')\n",
        "import string\n",
        "\n",
        "# défénir une fonction pour prétraiter le texte\n",
        "def pretraitement(text):\n",
        "      # Tokenisation\n",
        "      mots = word_tokenize(text)\n",
        "\n",
        "      # mise en minuscules\n",
        "      mots = [word.lower() for word in mots]\n",
        "\n",
        "      # supprimer la ponctuation\n",
        "      mots = [word.translate(str.maketrans('', '', string.punctuation)) for word in mots if word.translate(str.maketrans('', '', string.punctuation)) != '']\n",
        "\n",
        "      # supprimer les mots vides\n",
        "      stop_words = set(stopwords.words('english'))\n",
        "      mots = [word for word in mots if not word in stop_words]\n",
        "\n",
        "      return mots\n",
        "\n",
        "\n",
        "# appel de la fct prétraitement et affichage\n",
        "print(\"text after : \\n\")\n",
        "print(pretraitement(text))\n"
      ],
      "metadata": {
        "colab": {
          "base_uri": "https://localhost:8080/"
        },
        "id": "IbgrAogUrWRJ",
        "outputId": "a806dddb-303b-4c44-aea9-5679073aa6fa"
      },
      "execution_count": 46,
      "outputs": [
        {
          "output_type": "stream",
          "name": "stdout",
          "text": [
            "Requirement already satisfied: nltk in /usr/local/lib/python3.10/dist-packages (3.8.1)\n",
            "Requirement already satisfied: click in /usr/local/lib/python3.10/dist-packages (from nltk) (8.1.7)\n",
            "Requirement already satisfied: joblib in /usr/local/lib/python3.10/dist-packages (from nltk) (1.3.2)\n",
            "Requirement already satisfied: regex>=2021.8.3 in /usr/local/lib/python3.10/dist-packages (from nltk) (2023.12.25)\n",
            "Requirement already satisfied: tqdm in /usr/local/lib/python3.10/dist-packages (from nltk) (4.66.2)\n",
            "text after : \n",
            "\n",
            "['morocco', 'marrakech', 'tapestry', 'tradition', 'modernity', 'morocco', 'located', 'crossroads', 'europe', 'africa', 'country', 'drenched', 'history', 'mystery', 'cultural', 'richness', 'testament', 'ancient', 'civilizations', 'flourished', 'north', 'african', 'kingdom', 'boasts', 'unique', 'blend', 'arab', 'berber', 'european', 'influences', 'heart', 'morocco', 'rich', 'tapestry', 'lies', 'marrakech', 'one', 'four', 'imperial', 'cities', 'vibrant', 'epicenter', 'tradition', 'modernity', 'geographical', 'significance', 'morocco', 'bordered', 'atlantic', 'ocean', 'west', 'mediterranean', 'sea', 'north', 'algeria', 'east', 'southeast', 'vast', 'sahara', 'desert', 'south', 'strategic', 'location', 'historically', 'made', 'soughtafter', 'territory', 'melting', 'pot', 'cultures', 'religions', 'trade', 'routes', 'marrakech', 'red', 'city', 'marrakech', 'often', 'referred', 'red', 'city', 'due', 'distinctive', 'redhued', 'buildings', 'stands', 'backdrop', 'snowcapped', 'atlas', 'mountains', 'established', '11th', 'century', 'remained', 'crucial', 'political', 'economic', 'cultural', 'center', 'morocco', 'journey', 'medina', 'marrakech', 'old', 'town', 'medina', 'unesco', 'world', 'heritage', 'site', 'labyrinthine', 'maze', 'narrow', 'alleys', 'bustling', 'souks', 'historical', 'landmarks', 'djemaa', 'elfna', 'square', 'lies', 'heart', 'medina', 'comes', 'alive', 'every', 'evening', 'storytellers', 'musicians', 'snake', 'charmers', 'food', 'stalls', 'offering', 'tantalizing', 'moroccan', 'delicacies', 'palaces', 'gardens', 'city', 'also', 'home', 'grand', 'palaces', 'like', 'bahia', 'palace', 'showcasing', 'intricate', 'islamic', 'architecture', 'saadian', 'tombs', 'remnants', 'saadian', 'dynasty', 'majorelle', 'garden', 'restored', 'fashion', 'designer', 'yves', 'saint', 'laurent', 'tranquil', 'oasis', 'cacti', 'palm', 'trees', 'cobalt', 'blue', 'accents', 'modern', 'marrakech', 'tradition', 'history', 'permeate', 'marrakech', 'city', 'averse', 'modern', 'world', 'gueliz', 'new', 'town', 'brimming', 'contemporary', 'art', 'galleries', 'stylish', 'cafes', 'chic', 'boutiques', 'offering', 'stark', 'contrast', 'ancient', 'medina', 'moroccan', 'cuisine', 'journey', 'morocco', 'marrakech', 'would', 'complete', 'without', 'indulging', 'local', 'cuisine', 'tagines', 'couscous', 'pastilla', 'many', 'dishes', 'combine', 'plethora', 'flavors', 'spices', 'like', 'saffron', 'cumin', 'mint', 'paired', 'moroccan', 'mint', 'tea', 'culinary', 'experience', 'truly', 'unparalleled', 'conclusion', 'morocco', 'marrakech', 'heart', 'offers', 'travelers', 'unparalleled', 'journey', 'time', 'convergence', 'history', 'culture', 'architecture', 'gastronomy', 'makes', 'enthralling', 'destination', 'seeking', 'adventure', 'reflection', 'moroccan', 'proverb', 'goes', 'travel', 'know', 'value', 'men', 'case', 'morocco', 'marrakech', 'value', 'men', 'also', 'value', 'time', 'tradition', 'tales', 'spanned', 'centuries']\n"
          ]
        },
        {
          "output_type": "stream",
          "name": "stderr",
          "text": [
            "[nltk_data] Downloading package punkt to /root/nltk_data...\n",
            "[nltk_data]   Package punkt is already up-to-date!\n",
            "[nltk_data] Downloading package stopwords to /root/nltk_data...\n",
            "[nltk_data]   Package stopwords is already up-to-date!\n"
          ]
        }
      ]
    },
    {
      "cell_type": "markdown",
      "source": [
        "# Entraînement du modèle word2vec sur le texte"
      ],
      "metadata": {
        "id": "puMY0kcn-XsU"
      }
    },
    {
      "cell_type": "code",
      "source": [
        "# entraîner le modèle word2vec sur le texte\n",
        "\n",
        "#import de la classe Word2Vec depuis le module gensim.models\n",
        "from gensim.models import Word2Vec\n",
        "model_word2vec = Word2Vec([pretraitement(text)], vector_size=100, window=5, min_count=1, workers=4)"
      ],
      "metadata": {
        "id": "qn_Vnc2e-T0H"
      },
      "execution_count": 47,
      "outputs": []
    },
    {
      "cell_type": "markdown",
      "source": [
        "\n",
        "**1- Extraire la représentation vectorielle d'un mot**"
      ],
      "metadata": {
        "id": "mWrbJcUn6Zxn"
      }
    },
    {
      "cell_type": "code",
      "source": [
        "\n",
        "# prenons par exemple le mot \"morocco\" et le mot \"marrakech\"\n",
        "wordTest1 = \"morocco\"\n",
        "wordTest2 = \"marrakech\"\n",
        "# application du modèle sur les mots wordTest1 et wordTest2\n",
        "vector_representation1 = model_word2vec.wv.get_vector(wordTest1)\n",
        "vector_representation2 = model_word2vec.wv.get_vector(wordTest2)\n",
        "\n",
        "# affichage des représentations vectorielles des mots\n",
        "print(\"La représentation vectorielle du mot '{}' est :\".format(wordTest1),\"\\n\")\n",
        "print(vector_representation1,\"\\n\")\n",
        "print(\"La représentation vectorielle du mot '{}' est :\".format(wordTest2),\"\\n\")\n",
        "print(vector_representation2)"
      ],
      "metadata": {
        "colab": {
          "base_uri": "https://localhost:8080/"
        },
        "id": "KFJDqgoU4KVs",
        "outputId": "46470348-64b7-4619-d749-e20fb035435f"
      },
      "execution_count": 48,
      "outputs": [
        {
          "output_type": "stream",
          "name": "stdout",
          "text": [
            "La représentation vectorielle du mot 'morocco' est : \n",
            "\n",
            "[-8.6379237e-03  3.7070999e-03  5.1840362e-03  5.7452400e-03\n",
            "  7.4816342e-03 -6.2532825e-03  1.1471367e-03  6.1887945e-03\n",
            " -2.8707201e-03 -6.2066554e-03 -3.9575639e-04 -8.4753279e-03\n",
            " -5.6067053e-03  7.1519003e-03  3.3244817e-03  7.2228140e-03\n",
            "  6.8242047e-03  7.4283625e-03 -3.8093068e-03 -6.9706404e-04\n",
            "  2.3462072e-03 -4.5194058e-03  8.4061641e-03 -9.8794419e-03\n",
            "  6.7570652e-03  2.9589266e-03 -4.9587633e-03  4.3443055e-03\n",
            " -1.7928123e-03  6.7404103e-03  9.9986130e-03 -4.3130135e-03\n",
            " -5.7905307e-04 -5.7061762e-03  3.7802572e-03  2.8885633e-03\n",
            "  6.9467868e-03  6.0302834e-03  9.5038088e-03  9.1870241e-03\n",
            "  7.8877565e-03 -7.0596915e-03 -9.1916183e-03 -3.9444480e-04\n",
            " -3.0511378e-03  7.9283621e-03  5.9107319e-03 -1.5625965e-03\n",
            "  1.5330360e-03  1.8455304e-03  7.8363298e-03 -9.5535135e-03\n",
            " -2.0213131e-04  3.5069729e-03 -9.6699473e-04  8.4572444e-03\n",
            "  9.0332842e-03  6.5302015e-03 -8.0062973e-04  7.7639045e-03\n",
            " -8.5713696e-03  3.2084251e-03 -4.6272539e-03 -5.1248781e-03\n",
            "  3.5239472e-03  5.4208538e-03  7.7712825e-03 -5.7248431e-03\n",
            "  7.4162511e-03  6.7020659e-03 -3.7502253e-03 -8.6869122e-03\n",
            "  5.4547791e-03  6.4799041e-03 -7.4837409e-04 -6.6811619e-03\n",
            " -7.0877373e-03 -2.5375397e-03  5.0631678e-03 -3.6234281e-03\n",
            " -9.3542133e-03  3.8430470e-03  4.8410469e-03 -6.3184015e-03\n",
            "  1.1608284e-03 -2.0263710e-03  8.2077189e-05 -9.8412409e-03\n",
            "  2.7724013e-03 -4.7329352e-03  1.1999148e-03 -1.4865777e-03\n",
            "  2.1922130e-03 -7.8445040e-03 -2.6504116e-03  2.7353719e-03\n",
            "  5.4376079e-03 -2.4425213e-03 -9.5002465e-03  4.4970578e-03] \n",
            "\n",
            "La représentation vectorielle du mot 'marrakech' est : \n",
            "\n",
            "[-5.7177653e-04  2.8237520e-04  5.0990204e-03  9.0406165e-03\n",
            " -9.3056997e-03 -7.1805702e-03  6.5130703e-03  9.0902699e-03\n",
            " -5.0576329e-03 -3.7767198e-03  7.4216300e-03 -1.6513455e-03\n",
            " -4.4999849e-03  6.6385749e-03 -4.9124169e-03 -1.8503693e-03\n",
            "  2.9271340e-03  8.7989634e-04 -8.3125485e-03 -9.5584523e-03\n",
            "  7.3027727e-03  5.0635259e-03  6.7683156e-03  7.3704182e-04\n",
            "  6.3534393e-03 -3.4309509e-03 -9.6092082e-04  5.6929919e-03\n",
            " -7.6035485e-03 -3.9246832e-03 -7.4586966e-03 -8.5867586e-04\n",
            "  9.5488541e-03 -7.3393062e-03 -2.3909134e-03 -1.8334723e-03\n",
            "  8.1179291e-03 -5.9817666e-03  5.9406757e-05 -4.8422916e-03\n",
            " -9.6216146e-03  4.9323649e-03 -8.8090319e-03 -4.4307075e-03\n",
            "  1.7236129e-05 -2.3571544e-04 -7.6810988e-03  9.5774513e-03\n",
            "  5.0207595e-03  9.2982603e-03 -8.1187310e-03  4.4483487e-03\n",
            " -4.1533033e-03  8.5404358e-04  8.4769269e-03 -4.3895221e-03\n",
            "  4.5309169e-03 -6.7924103e-03 -3.6519892e-03  9.4779041e-03\n",
            " -1.5817696e-03  3.2448483e-04 -4.0890663e-03 -7.7177905e-03\n",
            " -1.6052905e-03  2.4739972e-03 -8.9671416e-04  5.5715349e-03\n",
            " -2.7718050e-03  2.3379002e-03  5.3988663e-03  8.4138401e-03\n",
            " -1.4380867e-03 -9.2827333e-03  4.4453149e-03  5.7709223e-04\n",
            "  7.4665579e-03 -8.7334390e-04 -2.7235742e-03 -8.7018097e-03\n",
            " -8.4148347e-04  2.8478440e-03  5.3513134e-03  7.1841618e-03\n",
            " -5.7525411e-03  1.8527401e-03  6.1263363e-03 -4.7522946e-03\n",
            " -3.0042164e-03  6.8028267e-03  1.7078137e-03  2.8857810e-04\n",
            "  3.4902357e-03  2.7588464e-04  9.7081903e-03  5.1429528e-03\n",
            " -8.8203792e-03 -7.0813512e-03  9.0513745e-04  6.3863727e-03]\n"
          ]
        }
      ]
    },
    {
      "cell_type": "markdown",
      "source": [
        " **2- Calculer la similarité entre deux mots**"
      ],
      "metadata": {
        "id": "7dy5cUcy7TtA"
      }
    },
    {
      "cell_type": "code",
      "source": [
        "# exemple1 : calculons la similarité entre les 2 mots \"europe\" et \"africa\"\n",
        "word1=\"europe\"\n",
        "word2=\"africa\"\n",
        "\n",
        "#application de la focntion similarity sr word1 et word2\n",
        "similarity = model_word2vec.wv.similarity(word1, word2)\n",
        "#affichage de la similarité\n",
        "print(f\"Similarité entre les mots  '{word1}' et '{word2}': {similarity}\")\n",
        "\n",
        "# exepmle2 : calculons la similarité entre les 2 mots \"europe\" et \"africa\"\n",
        "word3=\"morocco\"\n",
        "word4=\"marrakech\"\n",
        "\n",
        "#application de la focntion similarity sr word1 et word2\n",
        "similarity = model_word2vec.wv.similarity(word3, word4)\n",
        "#affichage de la similarité\n",
        "print(f\"Similarité entre les mots  '{word3}' et '{word4}': {similarity}\")\n"
      ],
      "metadata": {
        "colab": {
          "base_uri": "https://localhost:8080/"
        },
        "id": "l8Ar5UTF7Qpr",
        "outputId": "b84ea59a-b379-42e1-f8e3-04c3e5b0d401"
      },
      "execution_count": 49,
      "outputs": [
        {
          "output_type": "stream",
          "name": "stdout",
          "text": [
            "Similarité entre les mots  'europe' et 'africa': -0.003489178139716387\n",
            "Similarité entre les mots  'morocco' et 'marrakech': -0.006896534003317356\n"
          ]
        }
      ]
    },
    {
      "cell_type": "markdown",
      "source": [
        "**3- Extraire les mots contextuels (les plus similaires) pour un mot central donné**"
      ],
      "metadata": {
        "id": "Zq9Juv008yJA"
      }
    },
    {
      "cell_type": "code",
      "source": [
        "\n",
        "# prendre par exepmle le mot \"morroco\" comme un mot central\n",
        "word = \"morocco\"\n",
        "\n",
        "# Extraire les mots contextuels les plus similaires du word\n",
        "similar_words = model_word2vec.wv.most_similar(word)\n",
        "\n",
        "print(f\"Mots contextuels les plus similaires pour '{word}':\")\n",
        "for word, similarity in similar_words:\n",
        "    print(f\"- {word}: {similarity}\")"
      ],
      "metadata": {
        "colab": {
          "base_uri": "https://localhost:8080/"
        },
        "id": "3yKNyGZT81ob",
        "outputId": "73c6dcb9-91f5-4979-962e-a4a2d8bea228"
      },
      "execution_count": 50,
      "outputs": [
        {
          "output_type": "stream",
          "name": "stdout",
          "text": [
            "Mots contextuels les plus similaires pour 'morocco':\n",
            "- reflection: 0.21601714193820953\n",
            "- remnants: 0.190323606133461\n",
            "- time: 0.19027327001094818\n",
            "- red: 0.189852774143219\n",
            "- imperial: 0.18397369980812073\n",
            "- heritage: 0.18335314095020294\n",
            "- tagines: 0.18241755664348602\n",
            "- sahara: 0.18138395249843597\n",
            "- historical: 0.17423826456069946\n",
            "- storytellers: 0.17171955108642578\n"
          ]
        }
      ]
    }
  ]
}